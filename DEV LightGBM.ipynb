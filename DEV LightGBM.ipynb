{
 "cells": [
  {
   "cell_type": "code",
   "execution_count": 1,
   "metadata": {},
   "outputs": [
    {
     "name": "stderr",
     "output_type": "stream",
     "text": [
      "c:\\users\\xiaowei.li\\appdata\\local\\continuum\\anaconda3\\envs\\myvirtualpythonenv\\lib\\importlib\\_bootstrap.py:222: RuntimeWarning: numpy.dtype size changed, may indicate binary incompatibility. Expected 96, got 88\n",
      "  return f(*args, **kwds)\n"
     ]
    }
   ],
   "source": [
    "from sklearn.datasets import *\n",
    "import gc\n",
    "from LightGBM.LightGBM_ToolBox_ver2 import *\n",
    "\n",
    "%load_ext autoreload\n",
    "%autoreload 2"
   ]
  },
  {
   "cell_type": "markdown",
   "metadata": {},
   "source": [
    "### Load data:"
   ]
  },
  {
   "cell_type": "code",
   "execution_count": 2,
   "metadata": {},
   "outputs": [],
   "source": [
    "t = load_boston()\n",
    "\n",
    "data = pd.DataFrame(load_boston().data)\n",
    "data.columns = t.feature_names\n",
    "target = load_boston().target"
   ]
  },
  {
   "cell_type": "code",
   "execution_count": 3,
   "metadata": {},
   "outputs": [
    {
     "name": "stdout",
     "output_type": "stream",
     "text": [
      "(506, 13)\n"
     ]
    },
    {
     "data": {
      "text/html": [
       "<div>\n",
       "<style scoped>\n",
       "    .dataframe tbody tr th:only-of-type {\n",
       "        vertical-align: middle;\n",
       "    }\n",
       "\n",
       "    .dataframe tbody tr th {\n",
       "        vertical-align: top;\n",
       "    }\n",
       "\n",
       "    .dataframe thead th {\n",
       "        text-align: right;\n",
       "    }\n",
       "</style>\n",
       "<table border=\"1\" class=\"dataframe\">\n",
       "  <thead>\n",
       "    <tr style=\"text-align: right;\">\n",
       "      <th></th>\n",
       "      <th>CRIM</th>\n",
       "      <th>ZN</th>\n",
       "      <th>INDUS</th>\n",
       "      <th>CHAS</th>\n",
       "      <th>NOX</th>\n",
       "      <th>RM</th>\n",
       "      <th>AGE</th>\n",
       "      <th>DIS</th>\n",
       "      <th>RAD</th>\n",
       "      <th>TAX</th>\n",
       "      <th>PTRATIO</th>\n",
       "      <th>B</th>\n",
       "      <th>LSTAT</th>\n",
       "    </tr>\n",
       "  </thead>\n",
       "  <tbody>\n",
       "    <tr>\n",
       "      <th>0</th>\n",
       "      <td>0.00632</td>\n",
       "      <td>18.0</td>\n",
       "      <td>2.31</td>\n",
       "      <td>0.0</td>\n",
       "      <td>0.538</td>\n",
       "      <td>6.575</td>\n",
       "      <td>65.2</td>\n",
       "      <td>4.0900</td>\n",
       "      <td>1.0</td>\n",
       "      <td>296.0</td>\n",
       "      <td>15.3</td>\n",
       "      <td>396.90</td>\n",
       "      <td>4.98</td>\n",
       "    </tr>\n",
       "    <tr>\n",
       "      <th>1</th>\n",
       "      <td>0.02731</td>\n",
       "      <td>0.0</td>\n",
       "      <td>7.07</td>\n",
       "      <td>0.0</td>\n",
       "      <td>0.469</td>\n",
       "      <td>6.421</td>\n",
       "      <td>78.9</td>\n",
       "      <td>4.9671</td>\n",
       "      <td>2.0</td>\n",
       "      <td>242.0</td>\n",
       "      <td>17.8</td>\n",
       "      <td>396.90</td>\n",
       "      <td>9.14</td>\n",
       "    </tr>\n",
       "    <tr>\n",
       "      <th>2</th>\n",
       "      <td>0.02729</td>\n",
       "      <td>0.0</td>\n",
       "      <td>7.07</td>\n",
       "      <td>0.0</td>\n",
       "      <td>0.469</td>\n",
       "      <td>7.185</td>\n",
       "      <td>61.1</td>\n",
       "      <td>4.9671</td>\n",
       "      <td>2.0</td>\n",
       "      <td>242.0</td>\n",
       "      <td>17.8</td>\n",
       "      <td>392.83</td>\n",
       "      <td>4.03</td>\n",
       "    </tr>\n",
       "    <tr>\n",
       "      <th>3</th>\n",
       "      <td>0.03237</td>\n",
       "      <td>0.0</td>\n",
       "      <td>2.18</td>\n",
       "      <td>0.0</td>\n",
       "      <td>0.458</td>\n",
       "      <td>6.998</td>\n",
       "      <td>45.8</td>\n",
       "      <td>6.0622</td>\n",
       "      <td>3.0</td>\n",
       "      <td>222.0</td>\n",
       "      <td>18.7</td>\n",
       "      <td>394.63</td>\n",
       "      <td>2.94</td>\n",
       "    </tr>\n",
       "    <tr>\n",
       "      <th>4</th>\n",
       "      <td>0.06905</td>\n",
       "      <td>0.0</td>\n",
       "      <td>2.18</td>\n",
       "      <td>0.0</td>\n",
       "      <td>0.458</td>\n",
       "      <td>7.147</td>\n",
       "      <td>54.2</td>\n",
       "      <td>6.0622</td>\n",
       "      <td>3.0</td>\n",
       "      <td>222.0</td>\n",
       "      <td>18.7</td>\n",
       "      <td>396.90</td>\n",
       "      <td>5.33</td>\n",
       "    </tr>\n",
       "  </tbody>\n",
       "</table>\n",
       "</div>"
      ],
      "text/plain": [
       "      CRIM    ZN  INDUS  CHAS    NOX     RM   AGE     DIS  RAD    TAX  \\\n",
       "0  0.00632  18.0   2.31   0.0  0.538  6.575  65.2  4.0900  1.0  296.0   \n",
       "1  0.02731   0.0   7.07   0.0  0.469  6.421  78.9  4.9671  2.0  242.0   \n",
       "2  0.02729   0.0   7.07   0.0  0.469  7.185  61.1  4.9671  2.0  242.0   \n",
       "3  0.03237   0.0   2.18   0.0  0.458  6.998  45.8  6.0622  3.0  222.0   \n",
       "4  0.06905   0.0   2.18   0.0  0.458  7.147  54.2  6.0622  3.0  222.0   \n",
       "\n",
       "   PTRATIO       B  LSTAT  \n",
       "0     15.3  396.90   4.98  \n",
       "1     17.8  396.90   9.14  \n",
       "2     17.8  392.83   4.03  \n",
       "3     18.7  394.63   2.94  \n",
       "4     18.7  396.90   5.33  "
      ]
     },
     "execution_count": 3,
     "metadata": {},
     "output_type": "execute_result"
    }
   ],
   "source": [
    "print(data.shape)\n",
    "data.head()"
   ]
  },
  {
   "cell_type": "code",
   "execution_count": 4,
   "metadata": {},
   "outputs": [
    {
     "name": "stdout",
     "output_type": "stream",
     "text": [
      "101\n"
     ]
    }
   ],
   "source": [
    "random_idx = np.random.choice(data.index, size=int(data.shape[0]*0.2))\n",
    "print(len(random_idx))"
   ]
  },
  {
   "cell_type": "code",
   "execution_count": 5,
   "metadata": {},
   "outputs": [
    {
     "name": "stdout",
     "output_type": "stream",
     "text": [
      "Change partial data to NULL...\n"
     ]
    },
    {
     "data": {
      "text/plain": [
       "0"
      ]
     },
     "execution_count": 5,
     "metadata": {},
     "output_type": "execute_result"
    }
   ],
   "source": [
    "print('Change partial data to NULL...')\n",
    "data.loc[random_idx, 'AGE'] = np.nan\n",
    "gc.collect()"
   ]
  },
  {
   "cell_type": "code",
   "execution_count": 6,
   "metadata": {},
   "outputs": [
    {
     "name": "stdout",
     "output_type": "stream",
     "text": [
      "[  2.9   6.    6.2   6.5   6.6   6.8   7.8   8.9   9.9  10.   13.9  14.7\n",
      "  15.3  15.7  15.8  16.3  17.   17.2  17.5  17.7  17.8  18.4  18.5  18.8\n",
      "  19.1  19.5  20.1  20.8  21.1  21.4  21.5  21.8  21.9  22.3  22.9  23.3\n",
      "  24.8  25.8  26.3  27.7  27.9  28.1  28.4  28.8  28.9  29.1  29.2  29.3\n",
      "  30.2  30.8  31.1  31.3  31.5  31.9  32.   32.1  32.2  32.3  32.9  33.\n",
      "  33.1  33.2  33.3  33.5  34.1  34.5  35.9  36.1  36.6  36.8  37.2  37.3\n",
      "  37.8  38.1  38.3  38.4  38.5  38.9  39.   40.   40.1  40.3  40.5  41.1\n",
      "  41.5  41.9  42.2  42.3  42.4  43.4  43.7  44.4  45.   45.4  45.6  45.7\n",
      "  45.8  46.7  47.2  47.6  48.   48.2  49.   49.1  49.3  49.7  49.9  51.\n",
      "  51.8  51.9  52.3  52.5  52.6  52.8  53.2  53.6  53.7  53.8  54.   54.2\n",
      "  54.3  54.4  56.   56.1  56.4  56.5  56.7  56.8  58.   58.1  58.4  58.7\n",
      "  58.8  59.5  59.6  59.7  61.1  61.4  62.   62.2  62.5  62.8  63.   63.1\n",
      "  64.7  65.1  65.2  65.3  65.4  66.5  66.6  67.   67.2  67.6  67.8  68.1\n",
      "  68.7  68.8  69.1  69.5  69.6  70.2  70.3  70.4  70.6  71.   71.3  71.6\n",
      "  71.7  71.9  72.7  72.9  73.3  73.4  73.5  73.9  74.3  74.4  74.5  74.8\n",
      "  74.9  75.   76.   76.5  76.7  76.9  77.   77.3  77.7  77.8  78.3  78.7\n",
      "  79.2  79.7  79.8  79.9  80.3  80.8  81.3  81.7  82.   82.5  82.6  82.8\n",
      "  82.9  83.2  83.3  83.4  83.7  84.1  84.2  84.4  84.6  84.7  85.1  85.2\n",
      "  85.4  85.5  85.7  85.9  86.1  86.3  86.5  87.3  87.6  87.9  88.   88.4\n",
      "  88.5  88.6  88.8  89.2  89.3  89.4  89.5  89.6  89.8  89.9  90.   90.3\n",
      "  90.4  90.7  90.8  91.   91.1  91.2  91.3  91.4  91.7  91.8  91.9  92.1\n",
      "  92.2  92.4  92.6  92.7  92.9  93.   93.3  93.5  93.6  93.8  93.9  94.\n",
      "  94.1  94.3  94.4  94.5  94.6  94.7  94.8  94.9  95.   95.2  95.3  95.4\n",
      "  95.6  95.8  96.   96.1  96.2  96.4  96.6  96.7  96.8  97.   97.1  97.2\n",
      "  97.3  97.4  97.5  97.7  97.8  97.9  98.   98.1  98.2  98.3  98.4  98.5\n",
      "  98.7  98.8  98.9  99.1 100.    nan]\n"
     ]
    }
   ],
   "source": [
    "print(np.sort(data['AGE'].unique()))"
   ]
  },
  {
   "cell_type": "markdown",
   "metadata": {},
   "source": [
    "### Test modules:"
   ]
  },
  {
   "cell_type": "code",
   "execution_count": 7,
   "metadata": {},
   "outputs": [],
   "source": [
    "mylight = MyLight(objective='regression')"
   ]
  },
  {
   "cell_type": "code",
   "execution_count": 8,
   "metadata": {},
   "outputs": [
    {
     "name": "stdout",
     "output_type": "stream",
     "text": [
      "[01/24/2019 03:51:58 PM (Local Time)] INFO : Start logging...\n",
      "[01/24/2019 03:51:58 PM (Local Time)] INFO : Update instance booster params to: {'boosting_type': 'gbdt', 'subsample': 1.0, 'min_child_samples': 20, 'n_estimators': 100, 'subsample_freq': 0, 'max_depth': -1, 'objective': 'regression', 'class_weight': None, 'reg_lambda': 0.0, 'reg_alpha': 0.0, 'min_child_weight': 0.001, 'colsample_bytree': 1.0, 'min_split_gain': 0.0, 'subsample_for_bin': 200000, 'num_leaves': 31}\n",
      "\n"
     ]
    }
   ],
   "source": [
    "mylight.get_log()"
   ]
  },
  {
   "cell_type": "code",
   "execution_count": 9,
   "metadata": {},
   "outputs": [
    {
     "name": "stdout",
     "output_type": "stream",
     "text": [
      "['l1', 'mean_absolute_error', 'mae', 'regression_l1', 'l2', 'mean_squared_error', 'mse', 'regression_l2', 'regression', 'l2_root', 'root_mean_squared_error', 'rmse', 'quantile', 'mape', 'mean_absolute_percentage_error', 'huber', 'fair', 'poisson', 'gamma', 'gamma_deviance', 'tweedie', 'ndcg', 'map', 'auc', 'binary_logloss', 'binary_error', 'multi_logloss', 'multiclass', 'softmax', 'multiclassova', 'multiclass_ova', 'ova', 'ovr', 'multi_error', 'xentropy', 'cross_entropy', 'xentlambda', 'cross_entropy_lambda', 'kldiv', 'kullback_leibler']\n",
      "['regression', 'regression_l1', 'huber', 'fair', 'poisson', 'quantile', 'mape', 'gamma', 'tweedie', 'binary', 'multiclass', 'multiclassova', 'cross_entropy', 'cross_entropy_lambda', 'lambdarank']\n"
     ]
    }
   ],
   "source": [
    "print(mylight.lgb_default_metrics)\n",
    "print(mylight.lgb_default_objectives)"
   ]
  },
  {
   "cell_type": "code",
   "execution_count": 10,
   "metadata": {},
   "outputs": [],
   "source": [
    "n_rounds = 500\n",
    "learning_rates=[0.1, 0.001, 0.0001]\n",
    "for i in range(n_rounds-3):\n",
    "    learning_rates.append(0.00001)"
   ]
  },
  {
   "cell_type": "code",
   "execution_count": 11,
   "metadata": {},
   "outputs": [
    {
     "name": "stdout",
     "output_type": "stream",
     "text": [
      "model training\n",
      "Training until validation scores don't improve for 100 rounds.\n",
      "[100]\tTraining's rmse: 8.62894\tValidation's rmse: 7.91659\n",
      "[200]\tTraining's rmse: 8.62196\tValidation's rmse: 7.91088\n",
      "[300]\tTraining's rmse: 8.61497\tValidation's rmse: 7.90517\n"
     ]
    },
    {
     "name": "stderr",
     "output_type": "stream",
     "text": [
      "c:\\users\\xiaowei.li\\appdata\\local\\continuum\\anaconda3\\envs\\myvirtualpythonenv\\lib\\site-packages\\lightgbm\\engine.py:116: UserWarning: Found `num_iterations` in params. Will use it instead of argument\n",
      "  warnings.warn(\"Found `{}` in params. Will use it instead of argument\".format(alias))\n"
     ]
    },
    {
     "name": "stdout",
     "output_type": "stream",
     "text": [
      "[400]\tTraining's rmse: 8.60801\tValidation's rmse: 7.89949\n",
      "[500]\tTraining's rmse: 8.60106\tValidation's rmse: 7.89385\n",
      "Did not meet early stopping. Best iteration is:\n",
      "[500]\tTraining's rmse: 8.60106\tValidation's rmse: 7.89385\n",
      "*********************************************\n",
      "For model training, Time cost: 0.35 second(s)\n",
      "*********************************************\n"
     ]
    }
   ],
   "source": [
    "model = mylight.fit(data, target, learning_rates=learning_rates, verbose_eval=100, eval_metric=['rmse'], num_iterations=n_rounds, n_jobs=3)"
   ]
  },
  {
   "cell_type": "code",
   "execution_count": 12,
   "metadata": {},
   "outputs": [
    {
     "data": {
      "text/html": [
       "<div>\n",
       "<style scoped>\n",
       "    .dataframe tbody tr th:only-of-type {\n",
       "        vertical-align: middle;\n",
       "    }\n",
       "\n",
       "    .dataframe tbody tr th {\n",
       "        vertical-align: top;\n",
       "    }\n",
       "\n",
       "    .dataframe thead th {\n",
       "        text-align: right;\n",
       "    }\n",
       "</style>\n",
       "<table border=\"1\" class=\"dataframe\">\n",
       "  <thead>\n",
       "    <tr style=\"text-align: right;\">\n",
       "      <th></th>\n",
       "      <th>Features</th>\n",
       "      <th>Importances</th>\n",
       "    </tr>\n",
       "  </thead>\n",
       "  <tbody>\n",
       "    <tr>\n",
       "      <th>0</th>\n",
       "      <td>CRIM</td>\n",
       "      <td>502</td>\n",
       "    </tr>\n",
       "    <tr>\n",
       "      <th>1</th>\n",
       "      <td>ZN</td>\n",
       "      <td>0</td>\n",
       "    </tr>\n",
       "    <tr>\n",
       "      <th>2</th>\n",
       "      <td>INDUS</td>\n",
       "      <td>0</td>\n",
       "    </tr>\n",
       "    <tr>\n",
       "      <th>3</th>\n",
       "      <td>CHAS</td>\n",
       "      <td>0</td>\n",
       "    </tr>\n",
       "    <tr>\n",
       "      <th>4</th>\n",
       "      <td>NOX</td>\n",
       "      <td>500</td>\n",
       "    </tr>\n",
       "    <tr>\n",
       "      <th>5</th>\n",
       "      <td>RM</td>\n",
       "      <td>1999</td>\n",
       "    </tr>\n",
       "    <tr>\n",
       "      <th>6</th>\n",
       "      <td>AGE</td>\n",
       "      <td>0</td>\n",
       "    </tr>\n",
       "    <tr>\n",
       "      <th>7</th>\n",
       "      <td>DIS</td>\n",
       "      <td>0</td>\n",
       "    </tr>\n",
       "    <tr>\n",
       "      <th>8</th>\n",
       "      <td>RAD</td>\n",
       "      <td>1</td>\n",
       "    </tr>\n",
       "    <tr>\n",
       "      <th>9</th>\n",
       "      <td>TAX</td>\n",
       "      <td>499</td>\n",
       "    </tr>\n",
       "    <tr>\n",
       "      <th>10</th>\n",
       "      <td>PTRATIO</td>\n",
       "      <td>1</td>\n",
       "    </tr>\n",
       "    <tr>\n",
       "      <th>11</th>\n",
       "      <td>B</td>\n",
       "      <td>499</td>\n",
       "    </tr>\n",
       "    <tr>\n",
       "      <th>12</th>\n",
       "      <td>LSTAT</td>\n",
       "      <td>1999</td>\n",
       "    </tr>\n",
       "  </tbody>\n",
       "</table>\n",
       "</div>"
      ],
      "text/plain": [
       "   Features  Importances\n",
       "0      CRIM          502\n",
       "1        ZN            0\n",
       "2     INDUS            0\n",
       "3      CHAS            0\n",
       "4       NOX          500\n",
       "5        RM         1999\n",
       "6       AGE            0\n",
       "7       DIS            0\n",
       "8       RAD            1\n",
       "9       TAX          499\n",
       "10  PTRATIO            1\n",
       "11        B          499\n",
       "12    LSTAT         1999"
      ]
     },
     "execution_count": 12,
     "metadata": {},
     "output_type": "execute_result"
    }
   ],
   "source": [
    "mylight.analyze_feature_importance(plot=False)"
   ]
  },
  {
   "cell_type": "code",
   "execution_count": 13,
   "metadata": {},
   "outputs": [
    {
     "name": "stdout",
     "output_type": "stream",
     "text": [
      "Start K-Fold cross validation (ensemble)...\n",
      "\n",
      "For fold 1...\n",
      "\n",
      "model training\n",
      "Training until validation scores don't improve for 100 rounds.\n",
      "[100]\tTraining's rmse: 9.3296\tValidation's rmse: 8.67506\n",
      "Did not meet early stopping. Best iteration is:\n",
      "[100]\tTraining's rmse: 9.3296\tValidation's rmse: 8.67506\n",
      "*********************************************\n",
      "For model training, Time cost: 0.09 second(s)\n",
      "*********************************************\n",
      "\n",
      "For fold 2...\n",
      "\n",
      "model training\n",
      "Training until validation scores don't improve for 100 rounds.\n",
      "[100]\tTraining's rmse: 9.0346\tValidation's rmse: 9.28066\n",
      "Did not meet early stopping. Best iteration is:\n",
      "[100]\tTraining's rmse: 9.0346\tValidation's rmse: 9.28066\n",
      "*********************************************\n",
      "For model training, Time cost: 0.09 second(s)\n",
      "*********************************************\n",
      "\n",
      "For fold 3...\n",
      "\n"
     ]
    },
    {
     "name": "stderr",
     "output_type": "stream",
     "text": [
      "c:\\users\\xiaowei.li\\appdata\\local\\continuum\\anaconda3\\envs\\myvirtualpythonenv\\lib\\site-packages\\lightgbm\\engine.py:116: UserWarning: Found `num_iterations` in params. Will use it instead of argument\n",
      "  warnings.warn(\"Found `{}` in params. Will use it instead of argument\".format(alias))\n"
     ]
    },
    {
     "name": "stdout",
     "output_type": "stream",
     "text": [
      "model training\n",
      "Training until validation scores don't improve for 100 rounds.\n",
      "[100]\tTraining's rmse: 8.973\tValidation's rmse: 9.39669\n",
      "Did not meet early stopping. Best iteration is:\n",
      "[100]\tTraining's rmse: 8.973\tValidation's rmse: 9.39669\n",
      "*********************************************\n",
      "For model training, Time cost: 0.08 second(s)\n",
      "*********************************************\n",
      "For 3-folds cross validation, the rmse is 9.11608\n"
     ]
    }
   ],
   "source": [
    "trained_models = mylight.kfolds_cv_ensemble(data, target, learning_rate=0.0001, num_iterations=100)"
   ]
  },
  {
   "cell_type": "code",
   "execution_count": 14,
   "metadata": {},
   "outputs": [
    {
     "name": "stdout",
     "output_type": "stream",
     "text": [
      "[01/24/2019 03:51:58 PM (Local Time)] INFO : Start logging...\n",
      "[01/24/2019 03:51:58 PM (Local Time)] INFO : Update instance booster params to: {'boosting_type': 'gbdt', 'subsample': 1.0, 'min_child_samples': 20, 'n_estimators': 100, 'subsample_freq': 0, 'max_depth': -1, 'objective': 'regression', 'class_weight': None, 'reg_lambda': 0.0, 'reg_alpha': 0.0, 'min_child_weight': 0.001, 'colsample_bytree': 1.0, 'min_split_gain': 0.0, 'subsample_for_bin': 200000, 'num_leaves': 31}\n",
      "[01/24/2019 03:51:59 PM (Local Time)] INFO : Randomly split training data into 70% to 30%.\n",
      "[01/24/2019 03:51:59 PM (Local Time)] INFO : Training data size: (354, 13), validation data size: (152, 13)\n",
      "[01/24/2019 03:51:59 PM (Local Time)] INFO : Booster parameters: {'seed': 7, 'boosting_type': 'gbdt', 'subsample': 1.0, 'metrics': ['rmse'], 'min_child_samples': 20, 'n_estimators': 100, 'num_iterations': 500, 'subsample_freq': 0, 'max_depth': -1, 'objective': 'regression', 'class_weight': None, 'n_jobs': 3, 'reg_lambda': 0.0, 'reg_alpha': 0.0, 'min_child_weight': 0.001, 'colsample_bytree': 1.0, 'min_split_gain': 0.0, 'subsample_for_bin': 200000, 'learning_rate': 0.1, 'num_leaves': 31}\n",
      "[01/24/2019 03:51:59 PM (Local Time)] INFO : Run training at: 2019-01-24-15-51-59\n",
      "[01/24/2019 03:52:00 PM (Local Time)] INFO : Save model artifact F:\\Machine Learning\\Tools\\LightGBM\\LightGBM_model_checkpoints\\LightGBM_model_ckpt_2019-01-24-15-51-59\n",
      "[01/24/2019 03:52:00 PM (Local Time)] INFO : Start K-Fold cross validation (ensemble)...\n",
      "[01/24/2019 03:52:00 PM (Local Time)] INFO : \n",
      "For fold 1...\n",
      "\n",
      "[01/24/2019 03:52:00 PM (Local Time)] INFO : Training data size: (337, 13)\n",
      "[01/24/2019 03:52:00 PM (Local Time)] INFO : Will use validation data sets provided by user.\n",
      "[01/24/2019 03:52:00 PM (Local Time)] INFO : Validation data set size: (169, 13)\n",
      "[01/24/2019 03:52:00 PM (Local Time)] INFO : Booster parameters: {'seed': 7, 'boosting_type': 'gbdt', 'subsample': 1.0, 'metrics': ['rmse'], 'min_child_samples': 20, 'n_estimators': 100, 'num_iterations': 100, 'subsample_freq': 0, 'max_depth': -1, 'objective': 'regression', 'class_weight': None, 'n_jobs': -1, 'reg_lambda': 0.0, 'reg_alpha': 0.0, 'min_child_weight': 0.001, 'colsample_bytree': 1.0, 'min_split_gain': 0.0, 'subsample_for_bin': 200000, 'learning_rate': 0.0001, 'num_leaves': 31}\n",
      "[01/24/2019 03:52:00 PM (Local Time)] INFO : Run training at: 2019-01-24-15-52-00\n",
      "[01/24/2019 03:52:00 PM (Local Time)] INFO : Save model artifact F:\\Machine Learning\\Tools\\LightGBM\\LightGBM_model_checkpoints\\LightGBM_model_ckpt_2019-01-24-15-52-00\n",
      "[01/24/2019 03:52:00 PM (Local Time)] INFO : \n",
      "For fold 2...\n",
      "\n",
      "[01/24/2019 03:52:00 PM (Local Time)] INFO : Training data size: (337, 13)\n",
      "[01/24/2019 03:52:00 PM (Local Time)] INFO : Will use validation data sets provided by user.\n",
      "[01/24/2019 03:52:00 PM (Local Time)] INFO : Validation data set size: (169, 13)\n",
      "[01/24/2019 03:52:00 PM (Local Time)] INFO : Booster parameters: {'seed': 7, 'boosting_type': 'gbdt', 'subsample': 1.0, 'metrics': ['rmse'], 'min_child_samples': 20, 'n_estimators': 100, 'num_iterations': 100, 'subsample_freq': 0, 'max_depth': -1, 'objective': 'regression', 'class_weight': None, 'n_jobs': -1, 'reg_lambda': 0.0, 'reg_alpha': 0.0, 'min_child_weight': 0.001, 'colsample_bytree': 1.0, 'min_split_gain': 0.0, 'subsample_for_bin': 200000, 'learning_rate': 0.0001, 'num_leaves': 31}\n",
      "[01/24/2019 03:52:00 PM (Local Time)] INFO : Run training at: 2019-01-24-15-52-00\n",
      "[01/24/2019 03:52:00 PM (Local Time)] INFO : Save model artifact F:\\Machine Learning\\Tools\\LightGBM\\LightGBM_model_checkpoints\\LightGBM_model_ckpt_2019-01-24-15-52-00\n",
      "[01/24/2019 03:52:00 PM (Local Time)] INFO : \n",
      "For fold 3...\n",
      "\n",
      "[01/24/2019 03:52:00 PM (Local Time)] INFO : Training data size: (338, 13)\n",
      "[01/24/2019 03:52:00 PM (Local Time)] INFO : Will use validation data sets provided by user.\n",
      "[01/24/2019 03:52:00 PM (Local Time)] INFO : Validation data set size: (168, 13)\n",
      "[01/24/2019 03:52:00 PM (Local Time)] INFO : Booster parameters: {'seed': 7, 'boosting_type': 'gbdt', 'subsample': 1.0, 'metrics': ['rmse'], 'min_child_samples': 20, 'n_estimators': 100, 'num_iterations': 100, 'subsample_freq': 0, 'max_depth': -1, 'objective': 'regression', 'class_weight': None, 'n_jobs': -1, 'reg_lambda': 0.0, 'reg_alpha': 0.0, 'min_child_weight': 0.001, 'colsample_bytree': 1.0, 'min_split_gain': 0.0, 'subsample_for_bin': 200000, 'learning_rate': 0.0001, 'num_leaves': 31}\n",
      "[01/24/2019 03:52:00 PM (Local Time)] INFO : Run training at: 2019-01-24-15-52-00\n",
      "[01/24/2019 03:52:00 PM (Local Time)] INFO : Save model artifact F:\\Machine Learning\\Tools\\LightGBM\\LightGBM_model_checkpoints\\LightGBM_model_ckpt_2019-01-24-15-52-00\n",
      "[01/24/2019 03:52:00 PM (Local Time)] INFO : For 3-folds cross validation, the rmse is 9.11608\n",
      "\n"
     ]
    }
   ],
   "source": [
    "mylight.get_log()"
   ]
  },
  {
   "cell_type": "code",
   "execution_count": null,
   "metadata": {},
   "outputs": [],
   "source": []
  },
  {
   "cell_type": "code",
   "execution_count": null,
   "metadata": {},
   "outputs": [],
   "source": []
  }
 ],
 "metadata": {
  "kernelspec": {
   "display_name": "Python 3",
   "language": "python",
   "name": "python3"
  },
  "language_info": {
   "codemirror_mode": {
    "name": "ipython",
    "version": 3
   },
   "file_extension": ".py",
   "mimetype": "text/x-python",
   "name": "python",
   "nbconvert_exporter": "python",
   "pygments_lexer": "ipython3",
   "version": "3.6.7"
  }
 },
 "nbformat": 4,
 "nbformat_minor": 2
}
