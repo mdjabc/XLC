{
 "cells": [
  {
   "cell_type": "code",
   "execution_count": 1,
   "metadata": {},
   "outputs": [],
   "source": [
    "import os\n",
    "import sys\n",
    "import json\n",
    "import gc\n",
    "\n",
    "from XGBoost_ToolBox_ver2 import *"
   ]
  },
  {
   "cell_type": "code",
   "execution_count": 5,
   "metadata": {},
   "outputs": [],
   "source": [
    "with open('./config/lgb_booster_core_params.json', 'r') as file:\n",
    "    lgb_config = json.load(file)\n",
    "    gc.collect()"
   ]
  },
  {
   "cell_type": "code",
   "execution_count": 6,
   "metadata": {},
   "outputs": [
    {
     "data": {
      "text/plain": [
       "{'subsample_freq': 0,\n",
       " 'subsample_for_bin': 200000,\n",
       " 'reg_lambda': 0.0,\n",
       " 'colsample_bytree': 1.0,\n",
       " 'n_estimators': 100,\n",
       " 'class_weight': None,\n",
       " 'reg_alpha': 0.0,\n",
       " 'min_split_gain': 0.0,\n",
       " 'min_child_weight': 0.001,\n",
       " 'subsample': 1.0,\n",
       " 'max_depth': -1,\n",
       " 'min_child_samples': 20,\n",
       " 'boosting_type': 'gbdt',\n",
       " 'num_leaves': 31}"
      ]
     },
     "execution_count": 6,
     "metadata": {},
     "output_type": "execute_result"
    }
   ],
   "source": [
    "lgb_config"
   ]
  },
  {
   "cell_type": "code",
   "execution_count": 5,
   "metadata": {},
   "outputs": [],
   "source": [
    "xgb_gbtree_config = {\n",
    "    'booster':'gbtree',\n",
    "    'nthread':-1,\n",
    "    \n",
    "    'learning_rate':0.1,\n",
    "    'min_spit_loss':0,\n",
    "    'max_depth':6,\n",
    "    'min_child_weight':1,\n",
    "    'max_delta_step':0,\n",
    "    'subsample':1,\n",
    "    'colsample_bytree':1,\n",
    "    'colsample_bylevel':1,\n",
    "    'colsample_node':1,\n",
    "    'reg_lambda':1,\n",
    "    'reg_alpha':0,\n",
    "    'tree_method':'auto', # or: exact, approx, hist, gpu_exact, gpu_hist\n",
    "    'sketch_eps':0.03, # Only used when tree_method = 'approx'\n",
    "    'scale_pos_weight':1,\n",
    "    'seed':0\n",
    "    # 'refresh_leaf':1,\n",
    "    # 'process_type':'default', # options: default, update\n",
    "    # 'grow_policy':'depthwise', # Only when tree_method = hist, options: 'depthwise', 'lossguide'\n",
    "}"
   ]
  },
  {
   "cell_type": "code",
   "execution_count": 16,
   "metadata": {},
   "outputs": [
    {
     "ename": "SyntaxError",
     "evalue": "invalid syntax (<ipython-input-16-068a92e476a1>, line 25)",
     "output_type": "error",
     "traceback": [
      "\u001b[1;36m  File \u001b[1;32m\"<ipython-input-16-068a92e476a1>\"\u001b[1;36m, line \u001b[1;32m25\u001b[0m\n\u001b[1;33m    'seed':0\u001b[0m\n\u001b[1;37m         ^\u001b[0m\n\u001b[1;31mSyntaxError\u001b[0m\u001b[1;31m:\u001b[0m invalid syntax\n"
     ]
    }
   ],
   "source": [
    "xgb_dart_config = {\n",
    "    'booster':'dart',\n",
    "    'nthread':-1,\n",
    "    \n",
    "    'learning_rate':0.1,\n",
    "    'min_spit_loss':0,\n",
    "    'max_depth':6,\n",
    "    'min_child_weight':1,\n",
    "    'max_delta_step':0,\n",
    "    'subsample':1,\n",
    "    'colsample_bytree':1,\n",
    "    'colsample_bylevel':1,\n",
    "    'colsample_node':1,\n",
    "    'reg_lambda':1,\n",
    "    'reg_alpha':0,\n",
    "    'tree_method':'auto', # or: exact, approx, hist, gpu_exact, gpu_hist\n",
    "    'sketch_eps':0.03, # Only used when tree_method = 'approx'\n",
    "    'scale_pos_weight':1,\n",
    "    # Dart unique params:\n",
    "    'sample_type':'uniform', # or weighted.\n",
    "    'normalize_type':'tree', # or forest.\n",
    "    'rate_drop':0.0, # range: [0.0, 1.0]\n",
    "    'one_drop':0, # Flag feature.\n",
    "    'skip_drop':0.0 # range: [0.0, 1.0],\n",
    "    'seed':0\n",
    "}"
   ]
  },
  {
   "cell_type": "code",
   "execution_count": 7,
   "metadata": {},
   "outputs": [],
   "source": [
    "xgb_default_objectives = [\n",
    "    'reg:linear',\n",
    "    'reg:logistic',\n",
    "    'binary:logistic',\n",
    "    'binary:logitraw',\n",
    "    'binary:hinge',\n",
    "    'count:poisson',\n",
    "    'survival:cox',\n",
    "    'multi:softmax',\n",
    "    'multi:softprob',\n",
    "    'rank:pairwise',\n",
    "    'rank:ndcg',\n",
    "    'rank:map',\n",
    "    'reg:gamma',\n",
    "    'reg:tweedie'\n",
    "]"
   ]
  },
  {
   "cell_type": "code",
   "execution_count": 8,
   "metadata": {},
   "outputs": [],
   "source": [
    "xgb_default_metric = [\n",
    "    'rmse',\n",
    "    'mae',\n",
    "    'logloss',\n",
    "    'error',\n",
    "    'error@t',\n",
    "    'merror',\n",
    "    'mlogloss',\n",
    "    'auc',\n",
    "    'ndcg',\n",
    "    'map',\n",
    "    'map@n',\n",
    "    'map@n-',\n",
    "    'poisson-nloglik',\n",
    "    'gamma-nloglik',\n",
    "    'cox-nloglix',\n",
    "    'gamma-deviance',\n",
    "    'tweedie-nloglik'\n",
    "]"
   ]
  },
  {
   "cell_type": "code",
   "execution_count": null,
   "metadata": {},
   "outputs": [],
   "source": []
  },
  {
   "cell_type": "code",
   "execution_count": null,
   "metadata": {},
   "outputs": [],
   "source": []
  },
  {
   "cell_type": "code",
   "execution_count": null,
   "metadata": {},
   "outputs": [],
   "source": []
  },
  {
   "cell_type": "code",
   "execution_count": null,
   "metadata": {},
   "outputs": [],
   "source": []
  }
 ],
 "metadata": {
  "kernelspec": {
   "display_name": "Python 3",
   "language": "python",
   "name": "python3"
  },
  "language_info": {
   "codemirror_mode": {
    "name": "ipython",
    "version": 3
   },
   "file_extension": ".py",
   "mimetype": "text/x-python",
   "name": "python",
   "nbconvert_exporter": "python",
   "pygments_lexer": "ipython3",
   "version": "3.6.7"
  }
 },
 "nbformat": 4,
 "nbformat_minor": 2
}
