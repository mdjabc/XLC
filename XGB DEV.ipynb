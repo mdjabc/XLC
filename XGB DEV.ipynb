{
 "cells": [
  {
   "cell_type": "code",
   "execution_count": 1,
   "metadata": {},
   "outputs": [
    {
     "name": "stderr",
     "output_type": "stream",
     "text": [
      "c:\\users\\xiaowei.li\\appdata\\local\\continuum\\anaconda3\\envs\\myvirtualpythonenv\\lib\\importlib\\_bootstrap.py:222: RuntimeWarning: numpy.dtype size changed, may indicate binary incompatibility. Expected 96, got 88\n",
      "  return f(*args, **kwds)\n"
     ]
    }
   ],
   "source": [
    "import gc\n",
    "import os\n",
    "import sys\n",
    "import json\n",
    "import xgboost as xgb\n",
    "from XGBoost.XGBoost_ToolBox_ver3 import *\n",
    "\n",
    "from sklearn.datasets import *\n",
    "\n",
    "%load_ext autoreload\n",
    "%autoreload 2"
   ]
  },
  {
   "cell_type": "code",
   "execution_count": 2,
   "metadata": {},
   "outputs": [],
   "source": [
    "t = load_boston()\n",
    "\n",
    "data = pd.DataFrame(load_boston().data)\n",
    "data.columns = t.feature_names\n",
    "target = load_boston().target"
   ]
  },
  {
   "cell_type": "code",
   "execution_count": 3,
   "metadata": {},
   "outputs": [
    {
     "name": "stdout",
     "output_type": "stream",
     "text": [
      "101\n"
     ]
    }
   ],
   "source": [
    "random_idx = np.random.choice(data.index, size=int(data.shape[0]*0.2))\n",
    "print(len(random_idx))"
   ]
  },
  {
   "cell_type": "code",
   "execution_count": 4,
   "metadata": {},
   "outputs": [
    {
     "name": "stdout",
     "output_type": "stream",
     "text": [
      "Change partial data to NULL...\n"
     ]
    },
    {
     "data": {
      "text/plain": [
       "0"
      ]
     },
     "execution_count": 4,
     "metadata": {},
     "output_type": "execute_result"
    }
   ],
   "source": [
    "print('Change partial data to NULL...')\n",
    "data.loc[random_idx, 'AGE'] = np.nan\n",
    "gc.collect()"
   ]
  },
  {
   "cell_type": "code",
   "execution_count": 5,
   "metadata": {},
   "outputs": [
    {
     "name": "stdout",
     "output_type": "stream",
     "text": [
      "[  2.9   6.    6.2   6.5   6.6   6.8   7.8   8.4   8.9   9.8   9.9  13.\n",
      "  13.9  14.7  15.3  15.8  16.3  17.   17.2  17.5  17.7  17.8  18.4  18.5\n",
      "  18.8  19.1  19.5  20.1  20.8  21.1  21.4  21.8  21.9  22.3  22.9  23.3\n",
      "  23.4  24.8  25.8  26.3  27.6  27.7  27.9  28.1  28.4  28.8  28.9  29.2\n",
      "  29.3  30.2  30.8  31.1  31.5  31.9  32.   32.2  32.3  32.9  33.   33.1\n",
      "  33.2  33.3  33.5  34.1  34.2  34.5  34.9  35.7  35.9  36.1  36.6  36.8\n",
      "  36.9  37.2  37.3  37.8  38.1  38.3  38.9  39.   40.   40.3  40.4  40.5\n",
      "  41.1  41.5  41.9  42.2  42.3  42.4  42.6  42.8  43.7  44.4  45.   45.1\n",
      "  45.4  45.6  45.7  45.8  46.7  47.2  48.   48.2  48.5  49.   49.1  49.3\n",
      "  49.7  49.9  51.   51.8  51.9  52.3  52.5  52.6  52.8  52.9  53.2  53.6\n",
      "  53.7  53.8  54.2  54.3  54.4  56.4  56.5  56.7  56.8  57.8  58.   58.1\n",
      "  58.4  58.5  58.7  58.8  59.1  59.5  59.6  59.7  61.1  61.5  61.8  62.2\n",
      "  62.5  62.8  63.   63.1  65.1  65.2  65.3  65.4  66.1  66.2  66.5  66.6\n",
      "  67.   67.6  67.8  68.1  68.2  69.1  69.5  69.6  69.7  70.3  70.4  70.6\n",
      "  71.   71.3  71.7  71.9  72.5  72.7  72.9  73.3  73.4  73.5  73.9  74.3\n",
      "  74.4  74.8  74.9  75.   76.   76.5  76.7  76.9  77.3  77.7  78.1  78.7\n",
      "  78.9  79.2  79.7  79.8  79.9  80.3  80.8  81.3  81.7  81.8  82.5  82.6\n",
      "  82.8  82.9  83.   83.2  83.3  83.4  83.7  84.   84.1  84.4  84.5  84.6\n",
      "  84.7  85.1  85.2  85.4  85.5  86.1  86.3  86.5  86.9  87.3  87.4  87.6\n",
      "  87.9  88.   88.2  88.5  88.6  89.   89.1  89.2  89.3  89.4  89.5  89.6\n",
      "  89.9  90.   90.3  90.4  90.7  90.8  91.   91.1  91.2  91.3  91.4  91.5\n",
      "  91.8  91.9  92.1  92.2  92.4  92.6  92.7  92.9  93.   93.3  93.5  93.6\n",
      "  93.8  93.9  94.   94.1  94.3  94.4  94.5  94.6  94.7  94.8  94.9  95.\n",
      "  95.2  95.4  95.6  95.7  95.8  96.   96.1  96.2  96.4  96.6  96.7  96.8\n",
      "  96.9  97.   97.1  97.2  97.3  97.4  97.5  97.7  97.8  97.9  98.   98.1\n",
      "  98.2  98.3  98.4  98.5  98.7  98.8  98.9  99.3 100.    nan]\n"
     ]
    }
   ],
   "source": [
    "print(np.sort(data['AGE'].unique()))"
   ]
  },
  {
   "cell_type": "code",
   "execution_count": 6,
   "metadata": {},
   "outputs": [],
   "source": [
    "myxgb = MyXGB(objective='reg:linear')"
   ]
  },
  {
   "cell_type": "code",
   "execution_count": 7,
   "metadata": {},
   "outputs": [
    {
     "name": "stdout",
     "output_type": "stream",
     "text": [
      "[01/24/2019 01:40:20 PM (Local Time)] INFO : Start logging...\n",
      "[01/24/2019 01:40:20 PM (Local Time)] INFO : Update instance booster params to: {'colsample_bylevel': 1, 'max_delta_step': 0, 'subsample': 1, 'colsample_node': 1, 'learning_rate': 0.1, 'seed': 0, 'min_split_loss': 0, 'sketch_eps': 0.03, 'scale_pos_weight': 1, 'nthread': -1, 'colsample_bytree': 1, 'booster': 'gbtree', 'reg_lambda': 1, 'min_child_weight': 1, 'objective': 'reg:linear', 'tree_method': 'auto', 'reg_alpha': 0, 'max_depth': 6}\n",
      "\n"
     ]
    }
   ],
   "source": [
    "myxgb.get_log()"
   ]
  },
  {
   "cell_type": "code",
   "execution_count": 8,
   "metadata": {},
   "outputs": [
    {
     "name": "stdout",
     "output_type": "stream",
     "text": [
      "['rmse', 'mae', 'logloss', 'error', 'error@t', 'merror', 'mlogloss', 'auc', 'ndcg', 'map', 'map@n', 'map@n-', 'poisson-nloglik', 'gamma-nloglik', 'cox-nloglix', 'gamma-deviance', 'tweedie-nloglik']\n",
      "['reg:linear', 'reg:logistic', 'binary:logistic', 'binary:logitraw', 'binary:hinge', 'count:poisson', 'survival:cox', 'multi:softmax', 'multi:softprob', 'rank:pairwise', 'rank:ndcg', 'rank:map', 'reg:gamma', 'reg:tweedie']\n"
     ]
    }
   ],
   "source": [
    "print(myxgb.xgb_default_metrics)\n",
    "print(myxgb.xgb_default_objectives)"
   ]
  },
  {
   "cell_type": "code",
   "execution_count": 9,
   "metadata": {},
   "outputs": [],
   "source": [
    "num_boost_round=500\n",
    "\n",
    "learning_rates = [0.1, 0.001]\n",
    "\n",
    "for i in range(num_boost_round-len(learning_rates)):\n",
    "    learning_rates.append(0.0001)"
   ]
  },
  {
   "cell_type": "code",
   "execution_count": 10,
   "metadata": {},
   "outputs": [
    {
     "name": "stdout",
     "output_type": "stream",
     "text": [
      "model training\n",
      "[0]\tTrain-rmse:24.002\tTrain-mae:22.0741\tValid-rmse:23.4891\tValid-mae:21.8644\n",
      "Multiple eval metrics have been passed: 'Valid-mae' will be used for early stopping.\n",
      "\n",
      "Will train until Valid-mae hasn't improved in 30 rounds.\n",
      "[200]\tTrain-rmse:19.8702\tTrain-mae:18.1567\tValid-rmse:19.3849\tValid-mae:17.9037\n",
      "[400]\tTrain-rmse:16.4869\tTrain-mae:14.9418\tValid-rmse:16.0489\tValid-mae:14.6566\n",
      "[600]\tTrain-rmse:13.7137\tTrain-mae:12.302\tValid-rmse:13.3111\tValid-mae:11.9779\n",
      "[800]\tTrain-rmse:11.4404\tTrain-mae:10.1403\tValid-rmse:11.0844\tValid-mae:9.81965\n",
      "[999]\tTrain-rmse:9.58531\tTrain-mae:8.38152\tValid-rmse:9.3293\tValid-mae:8.12349\n",
      "*********************************************\n",
      "For model training, Time cost: 1.81 second(s)\n",
      "*********************************************\n"
     ]
    }
   ],
   "source": [
    "model = myxgb.fit(data, target, learning_rate=0.001, verbose_eval=200, eval_metric=['rmse', 'mae'], num_boost_round=1000, nthread=-1, early_stopping_rounds=30)"
   ]
  },
  {
   "cell_type": "code",
   "execution_count": 11,
   "metadata": {},
   "outputs": [
    {
     "name": "stdout",
     "output_type": "stream",
     "text": [
      "model training\n",
      "[0]\tTrain-rmse:24.002\tValid-rmse:23.4891\n",
      "Multiple eval metrics have been passed: 'Valid-rmse' will be used for early stopping.\n",
      "\n",
      "Will train until Valid-rmse hasn't improved in 100 rounds.\n",
      "[500]\tTrain-rmse:15.0316\tValid-rmse:14.6116\n",
      "[1000]\tTrain-rmse:9.57682\tValid-rmse:9.32103\n",
      "[1500]\tTrain-rmse:6.2212\tValid-rmse:6.29602\n",
      "[2000]\tTrain-rmse:4.13906\tValid-rmse:4.61131\n",
      "[2500]\tTrain-rmse:2.8528\tValid-rmse:3.75606\n",
      "[3000]\tTrain-rmse:2.07122\tValid-rmse:3.40776\n",
      "[3500]\tTrain-rmse:1.60245\tValid-rmse:3.27456\n",
      "[4000]\tTrain-rmse:1.30142\tValid-rmse:3.21165\n",
      "[4500]\tTrain-rmse:1.10877\tValid-rmse:3.1812\n",
      "Stopping. Best iteration:\n",
      "[4521]\tTrain-rmse:1.10287\tValid-rmse:3.18056\n",
      "\n",
      "*********************************************\n",
      "For model training, Time cost: 5.47 second(s)\n",
      "*********************************************\n",
      "For learning rate of 0.001, best score is 3.180562\n",
      "model training\n",
      "[0]\tTrain-rmse:1.07143\tValid-rmse:3.18085\n",
      "Multiple eval metrics have been passed: 'Valid-rmse' will be used for early stopping.\n",
      "\n",
      "Will train until Valid-rmse hasn't improved in 100 rounds.\n",
      "[500]\tTrain-rmse:1.05678\tValid-rmse:3.17939\n",
      "[1000]\tTrain-rmse:1.04262\tValid-rmse:3.17795\n",
      "[1500]\tTrain-rmse:1.02958\tValid-rmse:3.17693\n",
      "[2000]\tTrain-rmse:1.01733\tValid-rmse:3.17617\n",
      "Stopping. Best iteration:\n",
      "[2310]\tTrain-rmse:1.01038\tValid-rmse:3.17588\n",
      "\n",
      "*********************************************\n",
      "For model training, Time cost: 3.34 second(s)\n",
      "*********************************************\n",
      "For learning rate of 0.0001, best score is 3.175878\n",
      "model training\n",
      "[0]\tTrain-rmse:1.00772\tValid-rmse:3.176\n",
      "Multiple eval metrics have been passed: 'Valid-rmse' will be used for early stopping.\n",
      "\n",
      "Will train until Valid-rmse hasn't improved in 100 rounds.\n",
      "[500]\tTrain-rmse:1.00653\tValid-rmse:3.17601\n",
      "[1000]\tTrain-rmse:1.00535\tValid-rmse:3.17602\n",
      "[1500]\tTrain-rmse:1.00417\tValid-rmse:3.17602\n",
      "[2000]\tTrain-rmse:1.00298\tValid-rmse:3.17602\n",
      "Stopping. Best iteration:\n",
      "[2310]\tTrain-rmse:1.01038\tValid-rmse:3.17588\n",
      "\n",
      "*********************************************\n",
      "For model training, Time cost: 3.62 second(s)\n",
      "*********************************************\n",
      "model training\n",
      "[0]\tTrain-rmse:1.00773\tValid-rmse:3.176\n",
      "Multiple eval metrics have been passed: 'Valid-rmse' will be used for early stopping.\n",
      "\n",
      "Will train until Valid-rmse hasn't improved in 100 rounds.\n",
      "[500]\tTrain-rmse:1.00764\tValid-rmse:3.17602\n",
      "[1000]\tTrain-rmse:1.00756\tValid-rmse:3.17602\n",
      "[1500]\tTrain-rmse:1.00749\tValid-rmse:3.176\n",
      "[2000]\tTrain-rmse:1.00742\tValid-rmse:3.17599\n",
      "Stopping. Best iteration:\n",
      "[2310]\tTrain-rmse:1.01038\tValid-rmse:3.17588\n",
      "\n",
      "*********************************************\n",
      "For model training, Time cost: 3.67 second(s)\n",
      "*********************************************\n"
     ]
    }
   ],
   "source": [
    "auto_model = myxgb.auto_fit(data, target, learning_rate=0.001, learning_rate_tolerance=0.000001, verbose_eval=500, eval_metric=['rmse'], \\\n",
    "                            num_boost_round=10000, nthread=-1, early_stopping_rounds=100)"
   ]
  },
  {
   "cell_type": "code",
   "execution_count": 12,
   "metadata": {},
   "outputs": [],
   "source": [
    "# res = myxgb.xgb_cv(data, target, learning_rate=0.001, metrics=['rmse'], \n",
    "#                    early_stopping_rounds=50, num_boost_round=10000, verbose_eval=500)"
   ]
  },
  {
   "cell_type": "code",
   "execution_count": null,
   "metadata": {},
   "outputs": [],
   "source": []
  },
  {
   "cell_type": "code",
   "execution_count": 13,
   "metadata": {},
   "outputs": [],
   "source": [
    "myxgb.bayes_opt_X = data\n",
    "myxgb.bayes_opt_y = target\n",
    "myxgb.bayes_opt_metrics = 'rmse'"
   ]
  },
  {
   "cell_type": "code",
   "execution_count": 14,
   "metadata": {},
   "outputs": [],
   "source": [
    "# scores = myxgb.bayes_tuning()"
   ]
  },
  {
   "cell_type": "code",
   "execution_count": null,
   "metadata": {},
   "outputs": [],
   "source": []
  },
  {
   "cell_type": "code",
   "execution_count": null,
   "metadata": {},
   "outputs": [],
   "source": []
  }
 ],
 "metadata": {
  "kernelspec": {
   "display_name": "Python 3",
   "language": "python",
   "name": "python3"
  },
  "language_info": {
   "codemirror_mode": {
    "name": "ipython",
    "version": 3
   },
   "file_extension": ".py",
   "mimetype": "text/x-python",
   "name": "python",
   "nbconvert_exporter": "python",
   "pygments_lexer": "ipython3",
   "version": "3.5.3"
  }
 },
 "nbformat": 4,
 "nbformat_minor": 2
}
