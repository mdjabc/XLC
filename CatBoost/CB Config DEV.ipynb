{
 "cells": [
  {
   "cell_type": "code",
   "execution_count": 1,
   "metadata": {},
   "outputs": [],
   "source": [
    "import gc\n",
    "import os\n",
    "import sys\n",
    "import json\n",
    "\n",
    "import catboost as cb\n",
    "from sklearn.datasets import *\n",
    "\n",
    "%load_ext autoreload\n",
    "%autoreload 2"
   ]
  },
  {
   "cell_type": "code",
   "execution_count": 2,
   "metadata": {},
   "outputs": [],
   "source": [
    "cb_clf_booster_params = dict(\n",
    "                         iterations=None,\n",
    "                         learning_rate=None,\n",
    "                         depth=None,\n",
    "                         l2_leaf_reg=None,\n",
    "                         model_size_reg=None,\n",
    "                         rsm=None,\n",
    "                         loss_function='Logloss',\n",
    "                         border_count=None,\n",
    "                         feature_border_type=None,\n",
    "                         old_permutation_block_size=None,\n",
    "                         od_pval=None,\n",
    "                         od_wait=None,\n",
    "                         od_type=None,\n",
    "                         nan_mode=None,\n",
    "                         counter_calc_method=None,\n",
    "                         leaf_estimation_iterations=None,\n",
    "                         leaf_estimation_method=None,\n",
    "                         thread_count=None,\n",
    "                         random_seed=None,\n",
    "                         use_best_model=None,\n",
    "                         verbose=None,\n",
    "                         logging_level=None,\n",
    "                         metric_period=None,\n",
    "                         ctr_leaf_count_limit=None,\n",
    "                         store_all_simple_ctr=None,\n",
    "                         max_ctr_complexity=None,\n",
    "                         has_time=None,\n",
    "                         allow_const_label=None,\n",
    "                         classes_count=None,\n",
    "                         class_weights=None,\n",
    "                         one_hot_max_size=None,\n",
    "                         random_strength=None,\n",
    "                         name=None,\n",
    "                         ignored_features=None,\n",
    "                         train_dir=None,\n",
    "                         custom_loss=None,\n",
    "                         custom_metric=None,\n",
    "                         eval_metric=None,\n",
    "                         bagging_temperature=None,\n",
    "                         save_snapshot=None,\n",
    "                         snapshot_file=None,\n",
    "                         snapshot_interval=None,\n",
    "                         fold_len_multiplier=None,\n",
    "                         used_ram_limit=None,\n",
    "                         gpu_ram_part=None,\n",
    "                         allow_writing_files=None,\n",
    "                         final_ctr_computation_mode=None,\n",
    "                         approx_on_full_history=None,\n",
    "                         boosting_type=None,\n",
    "                         simple_ctr=None,\n",
    "                         combinations_ctr=None,\n",
    "                         per_feature_ctr=None,\n",
    "                         task_type=None,\n",
    "                         device_config=None,\n",
    "                         devices=None,\n",
    "                         bootstrap_type=None,\n",
    "                         subsample=None,\n",
    "                         max_depth=None,\n",
    "                         n_estimators=None,\n",
    "                         num_boost_round=None,\n",
    "                         num_trees=None,\n",
    "                         colsample_bylevel=None,\n",
    "                         random_state=None,\n",
    "                         reg_lambda=None,\n",
    "                         objective=None,\n",
    "                         eta=None,\n",
    "                         max_bin=None,\n",
    "                         scale_pos_weight=None,\n",
    "                         gpu_cat_features_storage=None,\n",
    "                         data_partition=None,\n",
    "                         metadata=None, \n",
    "                         early_stopping_rounds=None,\n",
    "                         cat_features=None)"
   ]
  },
  {
   "cell_type": "code",
   "execution_count": 3,
   "metadata": {},
   "outputs": [],
   "source": [
    "cb_reg_booster_params = dict(\n",
    "                        iterations=None,\n",
    "                        learning_rate=None,\n",
    "                        depth=None,\n",
    "                        l2_leaf_reg=None,\n",
    "                        model_size_reg=None,\n",
    "                        rsm=None,\n",
    "                        loss_function='RMSE',\n",
    "                        border_count=None,\n",
    "                        feature_border_type=None,\n",
    "                        fold_permutation_block_size=None,\n",
    "                        od_pval=None,\n",
    "                        od_wait=None,\n",
    "                        od_type=None,\n",
    "                        nan_mode=None,\n",
    "                        counter_calc_method=None,\n",
    "                        leaf_estimation_iterations=None,\n",
    "                        leaf_estimation_method=None,\n",
    "                        thread_count=None,\n",
    "                        random_seed=None,\n",
    "                        use_best_model=None,\n",
    "                        verbose=None,\n",
    "                        logging_level=None,\n",
    "                        metric_period=None,\n",
    "                        ctr_leaf_count_limit=None,\n",
    "                        store_all_simple_ctr=None,\n",
    "                        max_ctr_complexity=None,\n",
    "                        has_time=None,\n",
    "                        allow_const_label=None, \n",
    "                        one_hot_max_size=None,\n",
    "                        random_strength=None,\n",
    "                        name=None,\n",
    "                        ignored_features=None,\n",
    "                        train_dir=None,\n",
    "                        custom_metric=None,\n",
    "                        eval_metric=None,\n",
    "                        bagging_temperature=None,\n",
    "                        save_snapshot=None,\n",
    "                        snapshot_file=None,\n",
    "                        snapshot_interval=None,\n",
    "                        fold_len_multiplier=None,\n",
    "                        used_ram_limit=None,\n",
    "                        gpu_ram_part=None,\n",
    "                        allow_writing_files=None,\n",
    "                        final_ctr_computation_mode=None,\n",
    "                        approx_on_full_history=None,\n",
    "                        boosting_type=None,\n",
    "                        simple_ctr=None,\n",
    "                        combinations_ctr=None,\n",
    "                        per_feature_ctr=None,\n",
    "                        task_type=None,\n",
    "                        device_config=None,\n",
    "                        devices=None,\n",
    "                        bootstrap_type=None,\n",
    "                        subsample=None,\n",
    "                        max_depth=None,\n",
    "                        n_estimators=None,\n",
    "                        num_boost_round=None,\n",
    "                        num_trees=None,\n",
    "                        colsample_bylevel=None,\n",
    "                        random_state=None,\n",
    "                        reg_lambda=None,\n",
    "                        objective=None,\n",
    "                        eta=None,\n",
    "                        max_bin=None,\n",
    "                        gpu_cat_features_storage=None,\n",
    "                        data_partition=None,\n",
    "                        metadata=None,\n",
    "                        early_stopping_rounds=None,\n",
    "                        cat_features=None) "
   ]
  },
  {
   "cell_type": "code",
   "execution_count": null,
   "metadata": {},
   "outputs": [],
   "source": []
  },
  {
   "cell_type": "code",
   "execution_count": 5,
   "metadata": {},
   "outputs": [],
   "source": [
    "cb_default_booster_params = {\n",
    "    'regression':cb_reg_booster_params,\n",
    "    'classification':cb_clf_booster_params\n",
    "}"
   ]
  },
  {
   "cell_type": "code",
   "execution_count": 8,
   "metadata": {},
   "outputs": [],
   "source": [
    "with open('./config/catboost_default_booster_params.json', 'a') as file:\n",
    "    json.dump(cb_default_booster_params, file)"
   ]
  },
  {
   "cell_type": "code",
   "execution_count": null,
   "metadata": {},
   "outputs": [],
   "source": [
    "cb_default_eval_metrics = [\n",
    "    'RMSE',\n",
    "    'Logloss',\n",
    "    'MAE',\n",
    "    'CrossEntropy',\n",
    "    'Quantile',\n",
    "    'LogLinQuantile',\n",
    "    'Lq',\n",
    "    'MultiClass',\n",
    "    'MultiClassOneVsAll',\n",
    "    'MAPE',\n",
    "    'Poisson',\n",
    "    'PairLogit',\n",
    "    'PairLogitPairwise',\n",
    "    'QueryRMSE',\n",
    "    'QuerySoftMax',\n",
    "    'SMAPE',\n",
    "    'Recall',\n",
    "    'Precision',\n",
    "    'F1',\n",
    "    'TotalF1',\n",
    "    'Accuracy',\n",
    "    'BalancedAccuracy',\n",
    "    'BalancedErrorRate',\n",
    "    'Kappa',\n",
    "    'WKappa',\n",
    "    'LogLikelihoodOfPrediction',\n",
    "    'AUC',\n",
    "    'R2',\n",
    "    'NumErrors',\n",
    "    'MCC',\n",
    "    'BrierScore',\n",
    "    'HingeLoss',\n",
    "    'HammingLoss',\n",
    "    'ZeroOneLoss',\n",
    "    'MSLE',\n",
    "    'MedianAbsoluteError',\n",
    "    'PairAccuracy',\n",
    "    'AverageGain',\n",
    "    'PFound',\n",
    "    'NDCG',\n",
    "    'PrecisionAt',\n",
    "    'RecallAt',\n",
    "    'MAP'\n",
    "]"
   ]
  },
  {
   "cell_type": "code",
   "execution_count": 15,
   "metadata": {},
   "outputs": [],
   "source": [
    "cb_loss_functions_dict = {\n",
    "    'regression':['RMSE', 'MAE', 'MAPE', 'Quantile','QueryRMSE','Poisson',] , \n",
    "    'classification':['Logloss', 'CrossEntropy', 'MultiClass','MultiClassOneVsAll',],\n",
    "    'others':['LogLinQuantile','Lq','PairLogit','PairLogitPairwise','QuerySoftMax','YetiRank','YetiRankPairwise']\n",
    "}"
   ]
  },
  {
   "cell_type": "code",
   "execution_count": null,
   "metadata": {},
   "outputs": [],
   "source": []
  },
  {
   "cell_type": "code",
   "execution_count": 5,
   "metadata": {},
   "outputs": [],
   "source": [
    "def find_common_keys(dict1, dict2):\n",
    "    dict1_keys = dict1.keys()\n",
    "    dict2_keys = dict2.keys()\n",
    "    \n",
    "    common_keys = []\n",
    "    if len(dict1_keys) > len(dict2_keys):\n",
    "        smaller = list(dict2_keys)\n",
    "        larger = list(dict1_keys)\n",
    "    else:\n",
    "        smaller = list(dict1_keys)\n",
    "        larger = list(dict2_keys)\n",
    "        \n",
    "    for _key in larger:\n",
    "        if _key in smaller:\n",
    "            common_keys.append(_key)\n",
    "    smaller_unique = [ele for ele in smaller if ele not in common_keys]\n",
    "    larger_unique = [ele for ele in larger if ele not in common_keys]\n",
    "            \n",
    "    return common_keys, larger_unique, smaller_unique"
   ]
  },
  {
   "cell_type": "code",
   "execution_count": 6,
   "metadata": {},
   "outputs": [
    {
     "name": "stdout",
     "output_type": "stream",
     "text": [
      "Wall time: 0 ns\n",
      "CLF keys:  73 REG keys:  69 Common keys: 68\n"
     ]
    }
   ],
   "source": [
    "%time\n",
    "\n",
    "common_keys, larger, smaller = find_common_keys(cb_clf_booster_params, cb_reg_booster_params)\n",
    "print('CLF keys: ', len(cb_clf_booster_params), 'REG keys: ', len(cb_reg_booster_params), 'Common keys:', len(common_keys))"
   ]
  },
  {
   "cell_type": "code",
   "execution_count": 7,
   "metadata": {},
   "outputs": [
    {
     "name": "stdout",
     "output_type": "stream",
     "text": [
      "['old_permutation_block_size', 'class_weights', 'classes_count', 'scale_pos_weight', 'custom_loss']\n"
     ]
    }
   ],
   "source": [
    "print(larger)"
   ]
  },
  {
   "cell_type": "code",
   "execution_count": 8,
   "metadata": {},
   "outputs": [
    {
     "name": "stdout",
     "output_type": "stream",
     "text": [
      "['fold_permutation_block_size']\n"
     ]
    }
   ],
   "source": [
    "print(smaller)"
   ]
  },
  {
   "cell_type": "code",
   "execution_count": 9,
   "metadata": {},
   "outputs": [
    {
     "name": "stdout",
     "output_type": "stream",
     "text": [
      "{'reg': ['fold_permutation_block_size'], 'clf': ['old_permutation_block_size', 'class_weights', 'classes_count', 'scale_pos_weight', 'custom_loss'], 'general_params': ['eval_metric', 'eta', 'gpu_cat_features_storage', 'has_time', 'max_bin', 'num_boost_round', 'combinations_ctr', 'metadata', 'fold_len_multiplier', 'gpu_ram_part', 'simple_ctr', 'metric_period', 'snapshot_file', 'approx_on_full_history', 'l2_leaf_reg', 'border_count', 'bootstrap_type', 'depth', 'ignored_features', 'use_best_model', 'logging_level', 'objective', 'bagging_temperature', 'store_all_simple_ctr', 'devices', 'od_wait', 'snapshot_interval', 'task_type', 'leaf_estimation_iterations', 'ctr_leaf_count_limit', 'custom_metric', 'one_hot_max_size', 'device_config', 'max_ctr_complexity', 'used_ram_limit', 'model_size_reg', 'nan_mode', 'od_pval', 'data_partition', 'subsample', 'loss_function', 'counter_calc_method', 'allow_const_label', 'leaf_estimation_method', 'train_dir', 'boosting_type', 'feature_border_type', 'max_depth', 'final_ctr_computation_mode', 'early_stopping_rounds', 'thread_count', 'learning_rate', 'cat_features', 'random_seed', 'random_strength', 'colsample_bylevel', 'name', 'per_feature_ctr', 'reg_lambda', 'od_type', 'save_snapshot', 'num_trees', 'allow_writing_files', 'n_estimators', 'rsm', 'iterations', 'random_state', 'verbose']}\n"
     ]
    }
   ],
   "source": [
    "cb_booster_params = {\n",
    "    'general_params':common_keys,\n",
    "    'clf':larger,\n",
    "    'reg':smaller,\n",
    "}\n",
    "\n",
    "print(cb_booster_params)"
   ]
  },
  {
   "cell_type": "code",
   "execution_count": 20,
   "metadata": {},
   "outputs": [
    {
     "data": {
      "text/plain": [
       "{'classification': ['Logloss',\n",
       "  'CrossEntropy',\n",
       "  'MultiClass',\n",
       "  'MultiClassOneVsAll'],\n",
       " 'others': ['LogLinQuantile',\n",
       "  'Lq',\n",
       "  'PairLogit',\n",
       "  'PairLogitPairwise',\n",
       "  'QuerySoftMax',\n",
       "  'YetiRank',\n",
       "  'YetiRankPairwise'],\n",
       " 'regression': ['RMSE', 'MAE', 'MAPE', 'Quantile', 'QueryRMSE', 'Poisson']}"
      ]
     },
     "execution_count": 20,
     "metadata": {},
     "output_type": "execute_result"
    }
   ],
   "source": [
    "cb_loss_functions_dict"
   ]
  },
  {
   "cell_type": "code",
   "execution_count": null,
   "metadata": {},
   "outputs": [],
   "source": []
  },
  {
   "cell_type": "code",
   "execution_count": 24,
   "metadata": {},
   "outputs": [
    {
     "ename": "TypeError",
     "evalue": "'list' object is not a mapping",
     "output_type": "error",
     "traceback": [
      "\u001b[1;31m---------------------------------------------------------------------------\u001b[0m",
      "\u001b[1;31mTypeError\u001b[0m                                 Traceback (most recent call last)",
      "\u001b[1;32m<ipython-input-24-49d1ba4d09e0>\u001b[0m in \u001b[0;36m<module>\u001b[1;34m()\u001b[0m\n\u001b[1;32m----> 1\u001b[1;33m \u001b[1;33m{\u001b[0m\u001b[1;33m**\u001b[0m\u001b[0mcb_booster_params\u001b[0m\u001b[1;33m[\u001b[0m\u001b[1;34m'general_params'\u001b[0m\u001b[1;33m]\u001b[0m\u001b[1;33m,\u001b[0m \u001b[1;33m**\u001b[0m\u001b[0mcb_booster_params\u001b[0m\u001b[1;33m[\u001b[0m\u001b[1;34m'reg'\u001b[0m\u001b[1;33m]\u001b[0m\u001b[1;33m}\u001b[0m\u001b[1;33m\u001b[0m\u001b[0m\n\u001b[0m",
      "\u001b[1;31mTypeError\u001b[0m: 'list' object is not a mapping"
     ]
    }
   ],
   "source": []
  },
  {
   "cell_type": "code",
   "execution_count": 22,
   "metadata": {},
   "outputs": [
    {
     "data": {
      "text/plain": [
       "{'clf': ['old_permutation_block_size',\n",
       "  'class_weights',\n",
       "  'classes_count',\n",
       "  'scale_pos_weight',\n",
       "  'custom_loss'],\n",
       " 'general_params': ['eval_metric',\n",
       "  'eta',\n",
       "  'gpu_cat_features_storage',\n",
       "  'has_time',\n",
       "  'max_bin',\n",
       "  'num_boost_round',\n",
       "  'combinations_ctr',\n",
       "  'metadata',\n",
       "  'fold_len_multiplier',\n",
       "  'gpu_ram_part',\n",
       "  'simple_ctr',\n",
       "  'metric_period',\n",
       "  'snapshot_file',\n",
       "  'approx_on_full_history',\n",
       "  'l2_leaf_reg',\n",
       "  'border_count',\n",
       "  'bootstrap_type',\n",
       "  'depth',\n",
       "  'ignored_features',\n",
       "  'use_best_model',\n",
       "  'logging_level',\n",
       "  'objective',\n",
       "  'bagging_temperature',\n",
       "  'store_all_simple_ctr',\n",
       "  'devices',\n",
       "  'od_wait',\n",
       "  'snapshot_interval',\n",
       "  'task_type',\n",
       "  'leaf_estimation_iterations',\n",
       "  'ctr_leaf_count_limit',\n",
       "  'custom_metric',\n",
       "  'one_hot_max_size',\n",
       "  'device_config',\n",
       "  'max_ctr_complexity',\n",
       "  'used_ram_limit',\n",
       "  'model_size_reg',\n",
       "  'nan_mode',\n",
       "  'od_pval',\n",
       "  'data_partition',\n",
       "  'subsample',\n",
       "  'loss_function',\n",
       "  'counter_calc_method',\n",
       "  'allow_const_label',\n",
       "  'leaf_estimation_method',\n",
       "  'train_dir',\n",
       "  'boosting_type',\n",
       "  'feature_border_type',\n",
       "  'max_depth',\n",
       "  'final_ctr_computation_mode',\n",
       "  'early_stopping_rounds',\n",
       "  'thread_count',\n",
       "  'learning_rate',\n",
       "  'cat_features',\n",
       "  'random_seed',\n",
       "  'random_strength',\n",
       "  'colsample_bylevel',\n",
       "  'name',\n",
       "  'per_feature_ctr',\n",
       "  'reg_lambda',\n",
       "  'od_type',\n",
       "  'save_snapshot',\n",
       "  'num_trees',\n",
       "  'allow_writing_files',\n",
       "  'n_estimators',\n",
       "  'rsm',\n",
       "  'iterations',\n",
       "  'random_state',\n",
       "  'verbose'],\n",
       " 'reg': ['fold_permutation_block_size']}"
      ]
     },
     "execution_count": 22,
     "metadata": {},
     "output_type": "execute_result"
    }
   ],
   "source": [
    "cb_booster_params"
   ]
  },
  {
   "cell_type": "code",
   "execution_count": 29,
   "metadata": {},
   "outputs": [],
   "source": [
    "def merge_two_dict(dict1, dict2):\n",
    "    output_dict = dict1.copy()\n",
    "    output_dict.update(dict2)\n",
    "    \n",
    "    return output_dict"
   ]
  },
  {
   "cell_type": "code",
   "execution_count": 31,
   "metadata": {},
   "outputs": [
    {
     "name": "stdout",
     "output_type": "stream",
     "text": [
      "{'b': 2, 'a': 1} {'a': 1} {'b': 2}\n"
     ]
    }
   ],
   "source": [
    "p = {'a':1}\n",
    "q = {'b':2}\n",
    "\n",
    "print(merge_two_dict(p, q), p, q)"
   ]
  },
  {
   "cell_type": "code",
   "execution_count": null,
   "metadata": {},
   "outputs": [],
   "source": []
  }
 ],
 "metadata": {
  "kernelspec": {
   "display_name": "Python 3",
   "language": "python",
   "name": "python3"
  },
  "language_info": {
   "codemirror_mode": {
    "name": "ipython",
    "version": 3
   },
   "file_extension": ".py",
   "mimetype": "text/x-python",
   "name": "python",
   "nbconvert_exporter": "python",
   "pygments_lexer": "ipython3",
   "version": "3.6.7"
  }
 },
 "nbformat": 4,
 "nbformat_minor": 2
}
